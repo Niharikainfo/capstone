{
 "cells": [
  {
   "cell_type": "markdown",
   "metadata": {},
   "source": [
    "### LittleLemonDB Capstone Project \n"
   ]
  },
  {
   "cell_type": "code",
   "execution_count": 1,
   "metadata": {},
   "outputs": [],
   "source": [
    "# use to import the mysql connector API\n",
    "import mysql.connector as connector"
   ]
  },
  {
   "cell_type": "markdown",
   "metadata": {},
   "source": [
    "### Task 1\n"
   ]
  },
  {
   "cell_type": "code",
   "execution_count": 11,
   "metadata": {},
   "outputs": [],
   "source": [
    "connection=connector.connect(\n",
    "                             user=\"admin1\", \n",
    "                             password=\"password\",\n",
    "                             database=\"LittleLemonDB\"\n",
    "                            )"
   ]
  },
  {
   "cell_type": "code",
   "execution_count": 12,
   "metadata": {},
   "outputs": [],
   "source": [
    "cursor = connection.cursor()"
   ]
  },
  {
   "cell_type": "code",
   "execution_count": 13,
   "metadata": {},
   "outputs": [
    {
     "data": {
      "text/plain": [
       "'littlelemondb'"
      ]
     },
     "execution_count": 13,
     "metadata": {},
     "output_type": "execute_result"
    }
   ],
   "source": [
    "cursor.execute(\"USE LittleLemonDB\")\n",
    "connection.database"
   ]
  },
  {
   "cell_type": "markdown",
   "metadata": {},
   "source": [
    "### Task 2"
   ]
  },
  {
   "cell_type": "code",
   "execution_count": 14,
   "metadata": {},
   "outputs": [
    {
     "name": "stdout",
     "output_type": "stream",
     "text": [
      "Tables in the LittleLemonDB database:\n",
      "--------------------------------------\n",
      "()\n",
      "('Bookings',)\n",
      "('Customers',)\n",
      "('Employees',)\n",
      "('MenuItems',)\n",
      "('Menus',)\n",
      "('Orders',)\n"
     ]
    }
   ],
   "source": [
    "show_tables_query = \"\"\"SHOW tables\"\"\" \n",
    "cursor.execute(show_tables_query)\n",
    "results = cursor.fetchall()\n",
    "cols = cursor.column_names[1:]\n",
    "print(\"Tables in the LittleLemonDB database:\")\n",
    "print(\"--------------------------------------\")\n",
    "print(cols)\n",
    "for result in results:\n",
    "    print(result)"
   ]
  },
  {
   "cell_type": "markdown",
   "metadata": {},
   "source": [
    "### Testing connection "
   ]
  },
  {
   "cell_type": "code",
   "execution_count": 15,
   "metadata": {},
   "outputs": [
    {
     "name": "stdout",
     "output_type": "stream",
     "text": [
      "('CustomerID', 'FullName', 'ContactNumber')\n",
      "(1, 'Vanessa McCarthy', 111111)\n",
      "(2, 'Marcos Romero', 222222)\n",
      "(3, 'Anna Iversen', 333333)\n",
      "(4, 'Joakim Iversen', 444444)\n",
      "(5, 'Diana Pinto', 555555)\n",
      "(6, 'Hiroki Yamane', 666666)\n"
     ]
    }
   ],
   "source": [
    "orders_query = \"\"\"SELECT * FROM Customers\"\"\" \n",
    "cursor.execute(orders_query)\n",
    "results = cursor.fetchall()\n",
    "cols = cursor.column_names\n",
    "\n",
    "print(cols)\n",
    "for result in results:\n",
    "    print(result)"
   ]
  },
  {
   "cell_type": "markdown",
   "metadata": {},
   "source": [
    "### Task 3"
   ]
  },
  {
   "cell_type": "code",
   "execution_count": 16,
   "metadata": {},
   "outputs": [
    {
     "name": "stdout",
     "output_type": "stream",
     "text": [
      "Customers with orders greater than $60:\n",
      "---------------------------------------\n",
      "('CustomerID', 'FullName', 'ContactNumber', 'TotalCost')\n",
      "(3, 'Anna Iversen', 333333, 250)\n",
      "(4, 'Joakim Iversen', 444444, 200)\n",
      "(1, 'Vanessa McCarthy', 111111, 100)\n",
      "(2, 'Marcos Romero', 222222, 150)\n",
      "(6, 'Hiroki Yamane', 666666, 90)\n"
     ]
    }
   ],
   "source": [
    "query = \"\"\"\n",
    "SELECT c.CustomerID, c.FullName, c.ContactNumber, o.TotalCost\n",
    "FROM Orders o\n",
    "INNER JOIN Customers c\n",
    "  ON o.CustomerID = c.CustomerID\n",
    "WHERE o.TotalCost > 60\n",
    "\"\"\"\n",
    "\n",
    "\n",
    "cursor.execute(query)\n",
    "results = cursor.fetchall()\n",
    "cols = cursor.column_names\n",
    "\n",
    "print(\"Customers with orders greater than $60:\")\n",
    "print(\"---------------------------------------\")\n",
    "print(cols)\n",
    "for result in results:\n",
    "    print(result)"
   ]
  },
  {
   "cell_type": "code",
   "execution_count": 18,
   "metadata": {},
   "outputs": [
    {
     "name": "stdout",
     "output_type": "stream",
     "text": [
      "Connection is already closed.\n"
     ]
    }
   ],
   "source": [
    "if connection.is_connected():\n",
    "    cursor.close()\n",
    "    print(\"The cursor is closed.\")\n",
    "    connection.close()\n",
    "    print(\"MySQL connection is closed.\")\n",
    "else:\n",
    "    print(\"Connection is already closed.\")"
   ]
  }
 ],
 "metadata": {
  "kernelspec": {
   "display_name": "Python 3 (ipykernel)",
   "language": "python",
   "name": "python3"
  },
  "language_info": {
   "codemirror_mode": {
    "name": "ipython",
    "version": 3
   },
   "file_extension": ".py",
   "mimetype": "text/x-python",
   "name": "python",
   "nbconvert_exporter": "python",
   "pygments_lexer": "ipython3",
   "version": "3.11.3"
  },
  "vscode": {
   "interpreter": {
    "hash": "7c4f38b42c52578f71e97848146a9c1f396fd1ce601a5fe9f664b95ee68a6a5a"
   }
  }
 },
 "nbformat": 4,
 "nbformat_minor": 4
}
